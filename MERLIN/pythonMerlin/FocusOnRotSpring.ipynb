{
 "cells": [
  {
   "cell_type": "code",
   "execution_count": 59,
   "id": "bd9af2e0",
   "metadata": {},
   "outputs": [
    {
     "name": "stdout",
     "output_type": "stream",
     "text": [
      "he = 2.5635\n",
      "h0 = 2.5635\n",
      "kpi = [0.001 0.001 0.001 0.001 0.001 0.001 0.001 0.001 0.001 0.001 0.001 0.001\n",
      " 0.001 0.001 0.001 0.001 0.001 0.001 0.001 0.001]\n",
      "L0 = 1.4949\n",
      " Rspr = 0.0\n",
      " Kspr = 0.0014949\n"
     ]
    }
   ],
   "source": [
    "import numpy as np\n",
    "\n",
    "# Scalar inputs\n",
    "icrm = 1\n",
    "lambda_ = 0.0\n",
    "he = 2.5635\n",
    "h0 = 2.5635\n",
    "L0 = 1.4949\n",
    "limlft_deg = 5\n",
    "limrht_deg = 355\n",
    "kpi = np.ones(20) * 1e-3\n",
    "\n",
    "\n",
    "def EnhancedLinear_TwoOut(he,h0,kpi,L0,limlft,limrht):\n",
    "\n",
    "    print(f'he = {he}')\n",
    "    print(f'h0 = {h0}')\n",
    "    print(f'kpi = {kpi}')\n",
    "    print(f'L0 = {L0}')\n",
    "\n",
    "    limlft = np.radians(limlft_deg)\n",
    "    limrht = np.radians(limrht_deg)\n",
    "\n",
    "    partl = np.pi / limlft\n",
    "    partr = np.pi / (2 * np.pi - limrht)\n",
    "\n",
    "    if he < limlft:\n",
    "        Rspr = kpi[0] * (limlft - h0) + kpi[0] * np.tan(partl / 2 * (he - limlft)) / (partl / 2)\n",
    "        Kspr = kpi[0] * (1 / np.cos(partl / 2 * (he - limlft)))**2\n",
    "    elif he > limrht:\n",
    "        Rspr = kpi[0] * (limrht - h0) + kpi[0] * np.tan(partr / 2 * (he - limrht)) / (partr / 2)\n",
    "        Kspr = kpi[0] * (1 / np.cos(partr / 2 * (he - limrht)))**2\n",
    "    else:\n",
    "        Rspr = kpi[0] * (he - h0)\n",
    "        Kspr = kpi[0]\n",
    "\n",
    "    Rspr *= L0\n",
    "    Kspr *= L0\n",
    "\n",
    "    return Rspr, Kspr \n",
    "\n",
    "Rspr , Kspr = EnhancedLinear_TwoOut(he, h0, kpi, L0, limlft, limrht); \n",
    "print(f' Rspr = {Rspr}')\n",
    "print(f' Kspr = {Kspr}')"
   ]
  }
 ],
 "metadata": {
  "kernelspec": {
   "display_name": "SMA",
   "language": "python",
   "name": "python3"
  },
  "language_info": {
   "codemirror_mode": {
    "name": "ipython",
    "version": 3
   },
   "file_extension": ".py",
   "mimetype": "text/x-python",
   "name": "python",
   "nbconvert_exporter": "python",
   "pygments_lexer": "ipython3",
   "version": "3.13.5"
  }
 },
 "nbformat": 4,
 "nbformat_minor": 5
}
